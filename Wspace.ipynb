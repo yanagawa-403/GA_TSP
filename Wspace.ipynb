{
 "cells": [
  {
   "cell_type": "code",
   "execution_count": 11,
   "metadata": {},
   "outputs": [],
   "source": [
    "import matplotlib.pyplot as plt\n",
    "import numpy as np\n",
    "%matplotlib inline\n",
    "import random\n",
    "import copy\n",
    "\n",
    "ind_num = 20 #一世代の個体数\n",
    "gen_num = 1000 #目標の世代数\n",
    "co_method_num = 0 #交叉の方法\n",
    "selection_method_num = 0 #淘汰の方法\n",
    "mutation_probability = 0.1 #突然変異の確率\n",
    "point_num = 5\n",
    "\n",
    "\n"
   ]
  },
  {
   "cell_type": "code",
   "execution_count": 13,
   "metadata": {},
   "outputs": [
    {
     "data": {
      "image/png": "[encoded data removed]",
      "text/plain": [
       "<Figure size 640x480 with 1 Axes>"
      ]
     },
     "metadata": {},
     "output_type": "display_data"
    }
   ],
   "source": [
    "point_num = 5 #巡回するポイントの数\n",
    "#point_list = list(range(point_num))\n",
    "xPos = np.random.rand(point_num)#ポイントの数だけランダムな座標を生成\n",
    "yPos = np.random.rand(point_num)\n",
    "#print(xPos,\"\\n\", yPos)\n",
    "\n",
    "fig = plt.figure()\n",
    "ax = fig.add_subplot()\n",
    "plt.plot(xPos, yPos, marker = \"o\", linestyle = \"none\")#生成した座標の点のみ描画\n",
    "ax.set_aspect('equal', adjustable='box')\n",
    "plt.xlim(0, 1)\n",
    "plt.ylim(0, 1)\n",
    "\n",
    "coordinate = np.transpose(np.stack([xPos, yPos]))\n",
    "#print(coordinate)\n",
    "#print(coordinate[1])"
   ]
  },
  {
   "cell_type": "code",
   "execution_count": 9,
   "metadata": {},
   "outputs": [],
   "source": [
    "class Individual:\n",
    "  coordinate = 0\n",
    "  point_num = 0\n",
    "\n",
    "  def __init__(self, input=0):\n",
    "    if input == 0:\n",
    "      self.chromosome = list(range(Individual.point_num))\n",
    "      random.shuffle(self.chromosome)\n",
    "    else:\n",
    "      self.chromosome = input\n",
    "    self.getFitness()\n",
    "    #print(self.chromosome)\n",
    "\n",
    "  def setDefaultCoordinate(self, input):\n",
    "    Individual.coordinate = copy.deepcopy(input)\n",
    "  \n",
    "  def setChromosome(self, input):\n",
    "    self.chromosome = input\n",
    "\n",
    "  def getFitness(self):\n",
    "    self.fitness = 0\n",
    "    self.temp = []\n",
    "    for j in range(len(self.chromosome)):\n",
    "      self.temp.append(Individual.coordinate[self.chromosome[j]])\n",
    "    #print(self.temp)\n",
    "    #print(self.coordinate)\n",
    "\n",
    "    for i in range(len(self.temp)):\n",
    "      a=self.temp[i]\n",
    "      if i == len(self.temp)-1:\n",
    "        b=self.temp[0]\n",
    "      else:\n",
    "        b=self.temp[i+1]\n",
    "      distance=np.linalg.norm(b-a)\n",
    "      self.fitness += distance\n",
    "    #print(self.fitness)\n",
    "\n",
    "  def getChromosomse(self):\n",
    "    return_chromo = copy.deepcopy(self.chromosome)\n",
    "    return return_chromo"
   ]
  },
  {
   "cell_type": "code",
   "execution_count": 6,
   "metadata": {},
   "outputs": [],
   "source": [
    "def mutation_2(ind):\n",
    "  new_chromo = copy.deepcopy(ind.chromosome)\n",
    "  r1 = random.randint(0, len(ind.chromosome) -1)\n",
    "  r2 = random.randint(0, len(ind.chromosome) -1)\n",
    "  while r1 == r2:\n",
    "    r2 = random.randint(0, len(ind.chromosome) -1)\n",
    "\n",
    "  #print(r1,r2)\n",
    "  temp = new_chromo[r1]\n",
    "  new_chromo[r1] = new_chromo[r2]\n",
    "  new_chromo[r2] = temp\n",
    "  ind.setChromosome(new_chromo)\n",
    "  \n",
    "def mutation_ALL(ind):#壊れすぎてダメかも\n",
    "  new_chromo = list(range(len(ind.chromosome)))\n",
    "  random.shuffle(new_chromo)\n",
    "  ind.setChromosome(new_chromo)\n"
   ]
  },
  {
   "cell_type": "code",
   "execution_count": 22,
   "metadata": {},
   "outputs": [
    {
     "name": "stdout",
     "output_type": "stream",
     "text": [
      "[1, 4, 3, 2, 0]\n",
      "3.6812773527061973\n",
      "[3, 1, 2, 4, 0]\n",
      "2.4216349483356057\n"
     ]
    }
   ],
   "source": [
    "Individual.point_num = point_num\n",
    "Individual.coordinate = copy.deepcopy(coordinate)\n",
    "test_ind = Individual()\n",
    "print(test_ind.chromosome)\n",
    "print(test_ind.fitness)\n",
    "\n",
    "mutation_ALL(test_ind)\n",
    "\n",
    "test_ind.getFitness()\n",
    "print(test_ind.chromosome)\n",
    "print(test_ind.fitness)"
   ]
  }
 ],
 "metadata": {
  "kernelspec": {
   "display_name": "test1",
   "language": "python",
   "name": "python3"
  },
  "language_info": {
   "codemirror_mode": {
    "name": "ipython",
    "version": 3
   },
   "file_extension": ".py",
   "mimetype": "text/x-python",
   "name": "python",
   "nbconvert_exporter": "python",
   "pygments_lexer": "ipython3",
   "version": "3.9.3"
  },
  "orig_nbformat": 4
 },
 "nbformat": 4,
 "nbformat_minor": 2
}
