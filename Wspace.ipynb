{
 "cells": [
  {
   "cell_type": "code",
   "execution_count": 11,
   "metadata": {},
   "outputs": [],
   "source": [
    "import matplotlib.pyplot as plt\n",
    "import numpy as np\n",
    "%matplotlib inline\n",
    "import random\n",
    "import copy\n",
    "\n",
    "ind_num = 2 #一世代の個体数\n",
    "gen_num = 1000 #目標の世代数\n",
    "co_method_num = 0 #交叉の方法\n",
    "selection_method_num = 0 #淘汰の方法\n",
    "mutation_probability = 0.1 #突然変異の確率\n",
    "point_num = 8\n",
    "\n"
   ]
  },
  {
   "cell_type": "code",
   "execution_count": 3,
   "metadata": {},
   "outputs": [
    {
     "data": {
      "image/png": "[encoded data removed]",
      "text/plain": [
       "<Figure size 640x480 with 1 Axes>"
      ]
     },
     "metadata": {},
     "output_type": "display_data"
    }
   ],
   "source": [
    "\n",
    "#point_list = list(range(point_num))\n",
    "xPos = np.random.rand(point_num)#ポイントの数だけランダムな座標を生成\n",
    "yPos = np.random.rand(point_num)\n",
    "#print(xPos,\"\\n\", yPos)\n",
    "\n",
    "fig = plt.figure()\n",
    "ax = fig.add_subplot()\n",
    "plt.plot(xPos, yPos, marker = \"o\", linestyle = \"none\")#生成した座標の点のみ描画\n",
    "ax.set_aspect('equal', adjustable='box')\n",
    "plt.xlim(0, 1)\n",
    "plt.ylim(0, 1)\n",
    "\n",
    "coordinate = np.transpose(np.stack([xPos, yPos]))\n",
    "#print(coordinate)\n",
    "#print(coordinate[1])"
   ]
  },
  {
   "cell_type": "code",
   "execution_count": 5,
   "metadata": {},
   "outputs": [],
   "source": [
    "class Individual:\n",
    "  coordinate = 0\n",
    "  point_num = 0\n",
    "\n",
    "  def __init__(self, input=0):\n",
    "    if input == 0:\n",
    "      self.chromosome = list(range(Individual.point_num))\n",
    "      random.shuffle(self.chromosome)\n",
    "    else:\n",
    "      self.chromosome = input\n",
    "    self.getFitness()\n",
    "    #print(self.chromosome)\n",
    "\n",
    "  def setDefaultCoordinate(self, input):\n",
    "    Individual.coordinate = copy.deepcopy(input)\n",
    "  \n",
    "  def setChromosome(self, input):\n",
    "    self.chromosome = input\n",
    "\n",
    "  def getFitness(self):\n",
    "    self.fitness = 0\n",
    "    self.temp = []\n",
    "    for j in range(len(self.chromosome)):\n",
    "      self.temp.append(Individual.coordinate[self.chromosome[j]])\n",
    "    #print(self.temp)\n",
    "    #print(self.coordinate)\n",
    "\n",
    "    for i in range(len(self.temp)):\n",
    "      a=self.temp[i]\n",
    "      if i == len(self.temp)-1:\n",
    "        b=self.temp[0]\n",
    "      else:\n",
    "        b=self.temp[i+1]\n",
    "      distance=np.linalg.norm(b-a)\n",
    "      self.fitness += distance\n",
    "    #print(self.fitness)\n",
    "\n",
    "  def getChromosomse(self):\n",
    "    return_chromo = copy.deepcopy(self.chromosome)\n",
    "    return return_chromo"
   ]
  },
  {
   "cell_type": "code",
   "execution_count": 6,
   "metadata": {},
   "outputs": [],
   "source": [
    "def mutation_2(ind):\n",
    "  new_chromo = copy.deepcopy(ind.chromosome)\n",
    "  r1 = random.randint(0, len(ind.chromosome) -1)\n",
    "  r2 = random.randint(0, len(ind.chromosome) -1)\n",
    "  while r1 == r2:\n",
    "    r2 = random.randint(0, len(ind.chromosome) -1)\n",
    "\n",
    "  #print(r1,r2)\n",
    "  temp = new_chromo[r1]\n",
    "  new_chromo[r1] = new_chromo[r2]\n",
    "  new_chromo[r2] = temp\n",
    "  ind.setChromosome(new_chromo)\n",
    "  \n",
    "def mutation_ALL(ind):#壊れすぎてダメかも\n",
    "  new_chromo = list(range(len(ind.chromosome)))\n",
    "  random.shuffle(new_chromo)\n",
    "  ind.setChromosome(new_chromo)\n"
   ]
  },
  {
   "cell_type": "code",
   "execution_count": 7,
   "metadata": {},
   "outputs": [
    {
     "name": "stdout",
     "output_type": "stream",
     "text": [
      "[7, 6, 4, 5, 2, 1, 0, 3]\n",
      "4.172134038580635\n",
      "[4, 0, 6, 7, 3, 2, 5, 1]\n",
      "5.6708366076903705\n"
     ]
    }
   ],
   "source": [
    "Individual.point_num = point_num\n",
    "Individual.coordinate = copy.deepcopy(coordinate)\n",
    "test_ind = Individual()\n",
    "print(test_ind.chromosome)\n",
    "print(test_ind.fitness)\n",
    "\n",
    "mutation_ALL(test_ind)\n",
    "\n",
    "test_ind.getFitness()\n",
    "print(test_ind.chromosome)\n",
    "print(test_ind.fitness)"
   ]
  },
  {
   "cell_type": "code",
   "execution_count": 38,
   "metadata": {},
   "outputs": [],
   "source": [
    "class TestCO:\n",
    "  def co(self,input):\n",
    "    leng = len(input)\n",
    "    for i in range(0, leng, 2):\n",
    "      p1 = copy.deepcopy(input[i].chromosome)\n",
    "      p2 = copy.deepcopy(input[i+1].chromosome)\n",
    "      ret = self.cotst1201(p1,p2)\n",
    "\n",
    "      input.append(Individual(ret[0]))\n",
    "      input.append(Individual(ret[1]))\n",
    "\n",
    "\n",
    "\n",
    "  def cotst1201(self,input1, input2):\n",
    "    #print(\"start co\")\n",
    "    p1 = copy.deepcopy(input1)\n",
    "    p2 = copy.deepcopy(input2)\n",
    "    c1 = [-1] * len(p1) #-1で埋めた配列を作成\n",
    "    c2 = [-1] * len(p2)\n",
    "    r = random.randrange(len(p1))\n",
    "    print(r ,\"番目\") \n",
    "    c1[r] = p1[r]\n",
    "    c2[r] = p2[r]\n",
    "\n",
    "    index1 = p1.index(p2[r])\n",
    "    index2 = p2.index(p1[r])\n",
    "\n",
    "    c1[index1] = p1[index1]\n",
    "    c2[index2] = p2[index2]\n",
    "\n",
    "    #print(c1)\n",
    "    #print(c2)\n",
    "      \n",
    "    del1 = p1.pop(r)\n",
    "    del2 = p2.pop(r)\n",
    "    if not del1 == del2:\n",
    "      p1.remove(del2)\n",
    "      p2.remove(del1)\n",
    "\n",
    "    #print(p1)\n",
    "    #print(p2)\n",
    "    cout1 = cout2 = 0\n",
    "    for i in range(len(c1)):\n",
    "    \n",
    "      if c1[i] == -1:\n",
    "        c1[i] = p2[cout1]\n",
    "        cout1 += 1\n",
    "      if c2[i] == -1:\n",
    "        c2[i] = p1[cout2]\n",
    "        cout2 += 1\n",
    "\n",
    "    \n",
    "    #print(c1)\n",
    "    #print(c2)\n",
    "    #print(\"end co\")\n",
    "    return [c1,c2]"
   ]
  },
  {
   "cell_type": "code",
   "execution_count": 40,
   "metadata": {},
   "outputs": [
    {
     "name": "stdout",
     "output_type": "stream",
     "text": [
      "[0, 1, 2, 3, 4, 5, 6, 7]\n",
      "[7, 4, 6, 2, 3, 0, 1, 5]\n",
      "6 番目\n",
      "\n",
      "\n",
      "[0, 1, 2, 3, 4, 5, 6, 7]\n",
      "[7, 4, 6, 2, 3, 0, 1, 5]\n",
      "[7, 1, 4, 2, 3, 0, 6, 5]\n",
      "[0, 2, 6, 3, 4, 5, 1, 7]\n"
     ]
    }
   ],
   "source": [
    "genelation=[]\n",
    "plot_lst = list()\n",
    "Individual.point_num = point_num\n",
    "Individual.coordinate = copy.deepcopy(coordinate)\n",
    "for i in range(ind_num):\n",
    "  genelation.append(Individual())\n",
    "genelation[0].setChromosome([0,1,2,3,4,5,6,7])\n",
    "genelation[1].setChromosome([7, 4, 6, 2, 3, 0, 1, 5])\n",
    "\n",
    "for i in range(ind_num):\n",
    "  print(genelation[i].chromosome)\n",
    "\n",
    "clossOver = TestCO()\n",
    "clossOver.co(genelation)\n",
    "print(\"\\n\")\n",
    "\n",
    "for i in range(4):\n",
    "  print(genelation[i].chromosome)\n"
   ]
  }
 ],
 "metadata": {
  "kernelspec": {
   "display_name": "test1",
   "language": "python",
   "name": "python3"
  },
  "language_info": {
   "codemirror_mode": {
    "name": "ipython",
    "version": 3
   },
   "file_extension": ".py",
   "mimetype": "text/x-python",
   "name": "python",
   "nbconvert_exporter": "python",
   "pygments_lexer": "ipython3",
   "version": "3.9.3"
  },
  "orig_nbformat": 4
 },
 "nbformat": 4,
 "nbformat_minor": 2
}
